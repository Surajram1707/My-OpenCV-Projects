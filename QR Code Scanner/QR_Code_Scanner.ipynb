{
 "cells": [
  {
   "cell_type": "code",
   "execution_count": 3,
   "metadata": {},
   "outputs": [],
   "source": [
    "import cv2\n",
    "import numpy as np\n",
    "import sys\n",
    "import time\n"
   ]
  },
  {
   "cell_type": "code",
   "execution_count": 4,
   "metadata": {},
   "outputs": [],
   "source": [
    "inputImage = cv2.imread('Surajram1707.png')"
   ]
  },
  {
   "cell_type": "code",
   "execution_count": 12,
   "metadata": {},
   "outputs": [
    {
     "name": "stdout",
     "output_type": "stream",
     "text": [
      "Decoded data : https://github.com/Surajram1707\n"
     ]
    }
   ],
   "source": [
    "def display(imp,bbox):\n",
    "    n = len(bbox)\n",
    "    for j in range(n):\n",
    "        cv2.line(imp,tuple(bbox[j][0]),tuple(bbox[(j+1)%n][0]),(255,0,0),3)\n",
    "    cv2.imshow(\"Results\", imp)\n",
    "\n",
    "qrDecoder = cv2.QRCodeDetector()\n",
    "data,bbox,rectifiedImage = qrDecoder.detectAndDecode(inputImage)\n",
    "if len(data)>0:\n",
    "                 print(\"Decoded data : {}\".format(data))\n",
    "                 display(inputImage,bbox)\n",
    "                 rectifiedimage = np.uint8(rectifiedImage)\n",
    "                 cv2.imshow(\"Rectified QR Code\",rectifiedimage)\n",
    "else:\n",
    "                 print(\"QR Code not detected\")\n",
    "                 cv2.imshow(\"Results\",inputImage)\n",
    "\n",
    "cv2.waitKey(0)\n",
    "cv2.destroyAllWindows()"
   ]
  },
  {
   "cell_type": "code",
   "execution_count": null,
   "metadata": {},
   "outputs": [],
   "source": []
  }
 ],
 "metadata": {
  "kernelspec": {
   "display_name": "Python 3",
   "language": "python",
   "name": "python3"
  },
  "language_info": {
   "codemirror_mode": {
    "name": "ipython",
    "version": 3
   },
   "file_extension": ".py",
   "mimetype": "text/x-python",
   "name": "python",
   "nbconvert_exporter": "python",
   "pygments_lexer": "ipython3",
   "version": "3.7.3"
  }
 },
 "nbformat": 4,
 "nbformat_minor": 2
}
